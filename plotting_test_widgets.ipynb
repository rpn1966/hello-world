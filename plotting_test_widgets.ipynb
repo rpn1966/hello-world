{
  "nbformat": 4,
  "nbformat_minor": 0,
  "metadata": {
    "colab": {
      "name": "plotting-test.ipynb",
      "provenance": [],
      "authorship_tag": "ABX9TyOCMOUxzMRiVM0BJq8icxIM",
      "include_colab_link": true
    },
    "kernelspec": {
      "name": "python3",
      "display_name": "Python 3"
    }
  },
  "cells": [
    {
      "cell_type": "markdown",
      "metadata": {
        "id": "view-in-github",
        "colab_type": "text"
      },
      "source": [
        "<a href=\"https://colab.research.google.com/github/rpn1966/hello-world/blob/main/plotting_test_widgets.ipynb\" target=\"_parent\"><img src=\"https://colab.research.google.com/assets/colab-badge.svg\" alt=\"Open In Colab\"/></a>"
      ]
    },
    {
      "cell_type": "code",
      "metadata": {
        "id": "eQTgFk2w32gU"
      },
      "source": [
        "!pip install mpld3\n",
        "import numpy as np\n",
        "import matplotlib.pyplot as plt\n",
        "import mpld3\n",
        "import ipywidgets as widgets\n",
        "from ipywidgets import HBox, VBox\n",
        "from IPython.display import display\n",
        "mpld3.enable_notebook()\n",
        "plt.rcParams['figure.figsize'] = [9.5,6]"
      ],
      "execution_count": null,
      "outputs": []
    },
    {
      "cell_type": "markdown",
      "metadata": {
        "id": "94T8DX8H8ysY"
      },
      "source": [
        "The code below can be executed by choosing a value of ndata from the slider"
      ]
    },
    {
      "cell_type": "code",
      "metadata": {
        "id": "AzX3yTQZd3S3"
      },
      "source": [
        "@widgets.interact(ndata=(2, 100))\n",
        "def plotter(ndata):\n",
        "  xrand = np.random.randn(ndata)\n",
        "  yrand = np.random.randn(ndata)\n",
        "  plt.plot(xrand,yrand,'r.')"
      ],
      "execution_count": null,
      "outputs": []
    },
    {
      "cell_type": "code",
      "metadata": {
        "id": "F2F_PkK_0zsF"
      },
      "source": [
        ""
      ],
      "execution_count": null,
      "outputs": []
    }
  ]
}