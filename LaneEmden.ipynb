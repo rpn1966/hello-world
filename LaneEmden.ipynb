{
  "nbformat": 4,
  "nbformat_minor": 0,
  "metadata": {
    "colab": {
      "name": "LaneEmden.ipynb",
      "provenance": [],
      "authorship_tag": "ABX9TyNa3/+a0lkGvfXhKq5wPscb",
      "include_colab_link": true
    },
    "kernelspec": {
      "name": "python3",
      "display_name": "Python 3"
    }
  },
  "cells": [
    {
      "cell_type": "markdown",
      "metadata": {
        "id": "view-in-github",
        "colab_type": "text"
      },
      "source": [
        "<a href=\"https://colab.research.google.com/github/rpn1966/hello-world/blob/main/LaneEmden.ipynb\" target=\"_parent\"><img src=\"https://colab.research.google.com/assets/colab-badge.svg\" alt=\"Open In Colab\"/></a>"
      ]
    },
    {
      "cell_type": "code",
      "metadata": {
        "id": "5045BPkYJR73",
        "outputId": "63945e19-592b-4cb4-9c6c-f11f2bdba999",
        "colab": {
          "base_uri": "https://localhost:8080/",
          "height": 207
        }
      },
      "source": [
        "!pip install mpld3\n",
        "import numpy as np\n",
        "import matplotlib.pyplot as plt\n",
        "import mpld3\n",
        "import ipywidgets as widgets\n",
        "from ipywidgets import HBox, VBox\n",
        "from IPython.display import display, Markdown, Latex, Math\n",
        "mpld3.enable_notebook()"
      ],
      "execution_count": 47,
      "outputs": [
        {
          "output_type": "stream",
          "text": [
            "Requirement already satisfied: mpld3 in /usr/local/lib/python3.6/dist-packages (0.5.1)\n",
            "Requirement already satisfied: jinja2 in /usr/local/lib/python3.6/dist-packages (from mpld3) (2.11.2)\n",
            "Requirement already satisfied: matplotlib in /usr/local/lib/python3.6/dist-packages (from mpld3) (3.2.2)\n",
            "Requirement already satisfied: MarkupSafe>=0.23 in /usr/local/lib/python3.6/dist-packages (from jinja2->mpld3) (1.1.1)\n",
            "Requirement already satisfied: kiwisolver>=1.0.1 in /usr/local/lib/python3.6/dist-packages (from matplotlib->mpld3) (1.2.0)\n",
            "Requirement already satisfied: numpy>=1.11 in /usr/local/lib/python3.6/dist-packages (from matplotlib->mpld3) (1.18.5)\n",
            "Requirement already satisfied: pyparsing!=2.0.4,!=2.1.2,!=2.1.6,>=2.0.1 in /usr/local/lib/python3.6/dist-packages (from matplotlib->mpld3) (2.4.7)\n",
            "Requirement already satisfied: python-dateutil>=2.1 in /usr/local/lib/python3.6/dist-packages (from matplotlib->mpld3) (2.8.1)\n",
            "Requirement already satisfied: cycler>=0.10 in /usr/local/lib/python3.6/dist-packages (from matplotlib->mpld3) (0.10.0)\n",
            "Requirement already satisfied: six>=1.5 in /usr/local/lib/python3.6/dist-packages (from python-dateutil>=2.1->matplotlib->mpld3) (1.15.0)\n"
          ],
          "name": "stdout"
        }
      ]
    },
    {
      "cell_type": "code",
      "metadata": {
        "id": "RCD0bbBJKDtR"
      },
      "source": [
        "def lane_emden():\n",
        "  # Define physical constants required to define the stellar models\n",
        "  Pi=np.pi\n",
        "  G=6.67E-11\n",
        "  k_B=1.38E-23\n",
        "  m_H=1.67E-27\n",
        "  mu=0.62\n",
        "  \n",
        "  # Solar values\n",
        "  Msun=1.989E30\n",
        "  Rsun=7.E8\n",
        "  Lsun2=3.86E26\n",
        "  \n",
        "  # Define maximum number of integration points\n",
        "  Nmax=100000\n",
        "  \n",
        "  # Ask the user to input the polytropic index, n\n",
        "  n=float(input('Enter n, the polytrope index '))\n",
        "  \n",
        "  # Ask the user to input physical parameters of the star\n",
        "  Rstar=float(input('Enter Rstar, the radius of the star in units of the Solar radius '))\n",
        "  Mstar=float(input('Enter Mstar, the mass of the star in units of the Solar mass '))\n",
        "  Rstar=Rstar*Rsun     # Convert radius to physical units\n",
        "  Mstar=Mstar*Msun     # Convert mass to physical units\n",
        "  \n",
        "  # The variables are as follows \n",
        "  # Dimensionless length : xi \n",
        "  # Dimensionless density function : theta\n",
        "  # The gradient of theta wrt xi : dtheta_dxi\n",
        "  \n",
        "  # Here we define floating point arrays for xi, theta, dtheta_dxi:\n",
        "  xi=np.zeros(Nmax,dtype=np.float64)\n",
        "  theta=np.zeros(Nmax,dtype=np.float64)\n",
        "  dtheta_dxi=np.zeros(Nmax,dtype=np.float64)\n",
        "  \n",
        "  # Specify boundary conditions, and start the integration a small distance (1.E-6) \n",
        "  # away from the centre of the star (remember that starting at exactly xi=0.0 is not \n",
        "  # possible since the equations diverge there through division by zero.\n",
        "  theta[0]=1.0\n",
        "  dtheta_dxi[0]=0.0\n",
        "  xi[0]=1.E-6\n",
        "  \n",
        "  # The step size in radius is defined by dxi.\n",
        "  # The smaller the step the more accurate the calculation.\n",
        "  # And the longer it takes!\n",
        "  dxi = 0.001\n",
        "  \n",
        "  # We now define a variable, i, that counts the number of steps as we move out \n",
        "  # through the star. We cycle around a loop, computing the values at each \n",
        "  # radius point in the star until the value of theta becomes negative, \n",
        "  # (or until we iterate through the maximum number of grid points allowed by Nmax), \n",
        "  # at which point the integration ends and we jump out of the loop.\n",
        "  \n",
        "  i=0    # Note that i=0 corresponds to the radius point at the centre of the star\n",
        "  print(i,theta[i])\n",
        "\n",
        "  while theta[i] > 0 and i < Nmax-1:    \n",
        "    i=i+1   # Increment i during each iteration of the loop\n",
        "    \n",
        "    # Calculate the next value of dtheta_dxi at radius point i using data from i-1\n",
        "    dtheta_dxi[i]=dtheta_dxi[i-1] - ( 2.0*dtheta_dxi[i-1]/xi[i-1] + theta[i-1]**n )*dxi\n",
        "    \n",
        "    # Calculate the next value of theta[i] using the updated value of dtheta_dxi[i]\n",
        "    theta[i] = theta[i-1] + dtheta_dxi[i]*dxi \n",
        "    \n",
        "    # Increment the dimensionless radius (move out to the next radius point in the star).\n",
        "    xi[i] = xi[i-1] + dxi\n",
        "    \n",
        "    # Save the final positive value of theta and its gradient for determining the\n",
        "    # value of xi where theta=0\n",
        "    thetalast = theta[i-1]\n",
        "    dtheta_dxilast = dtheta_dxi[i-1]\n",
        "  \n",
        "  # Note we are now out of the loop as we have changed the indentation!\n",
        "  \n",
        "  # We calculate the position of the root (xi=xi_1), using the last\n",
        "  # value of theta to be computed (which  is the first value < 0, and the  \n",
        "  # previous theta value (stored as thetalast) which is the last value > 0.\n",
        "  # To find xi_1 we interpolate between the last positive value and first \n",
        "  # negative value of theta to estimate the location where theta=0.\n",
        "  # We do the same for dtheta_dxi to find the value of the gradient\n",
        "  # at the location xi=xi_1.\n",
        "  xi_1 = xi[i] + (theta[i]/(thetalast-theta[i]))*dxi\n",
        "  dtheta_dxi_1 = dtheta_dxi[i] - (xi[i]-xi_1)*(dtheta_dxi[i]-dtheta_dxilast)/dxi\n",
        "  print ('The value of xi_i= ',xi_1) \n",
        "  print ('At this point dtheta/dxi = ',dtheta_dxi_1)\n",
        "  display(Markdown('*some markdown* $$\\phi$$'))\n",
        "  # If you particularly want to display maths, this is more direct:\n",
        "  display(Latex('\\phi'))\n",
        "  display(Math(r'\\xi'))\n"
      ],
      "execution_count": 52,
      "outputs": []
    },
    {
      "cell_type": "code",
      "metadata": {
        "id": "tfb_FVDlTrga",
        "outputId": "7ee4403d-df32-4ca4-9a47-0df6c3cbb32a",
        "colab": {
          "base_uri": "https://localhost:8080/",
          "height": 211
        }
      },
      "source": [
        "lane_emden()"
      ],
      "execution_count": 50,
      "outputs": [
        {
          "output_type": "stream",
          "text": [
            "Enter n, the polytrope index 1.\n",
            "Enter Rstar, the radius of the star in units of the Solar radius 1.\n",
            "Enter Mstar, the mass of the star in units of the Solar mass 1.\n",
            "0 1.0\n",
            "The value of xi_i=  3.1413739210122076\n",
            "At this point dtheta/dxi =  -0.3183089537922902\n"
          ],
          "name": "stdout"
        },
        {
          "output_type": "display_data",
          "data": {
            "text/markdown": "*some markdown* $$\\phi$$",
            "text/plain": [
              "<IPython.core.display.Markdown object>"
            ]
          },
          "metadata": {
            "tags": []
          }
        },
        {
          "output_type": "display_data",
          "data": {
            "text/latex": "\\phi",
            "text/plain": [
              "<IPython.core.display.Latex object>"
            ]
          },
          "metadata": {
            "tags": []
          }
        },
        {
          "output_type": "display_data",
          "data": {
            "text/latex": "$$\\xi$$",
            "text/plain": [
              "<IPython.core.display.Math object>"
            ]
          },
          "metadata": {
            "tags": []
          }
        }
      ]
    },
    {
      "cell_type": "code",
      "metadata": {
        "id": "OZmdbB6oTtyp"
      },
      "source": [
        ""
      ],
      "execution_count": null,
      "outputs": []
    },
    {
      "cell_type": "markdown",
      "metadata": {
        "id": "w0_LSs41fUKJ"
      },
      "source": [
        "$\\xi_1$\n"
      ]
    },
    {
      "cell_type": "code",
      "metadata": {
        "id": "hR7WP4Hhfax_"
      },
      "source": [
        ""
      ],
      "execution_count": null,
      "outputs": []
    }
  ]
}