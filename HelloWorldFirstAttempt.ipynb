{
 "cells": [
  {
   "cell_type": "code",
   "execution_count": 5,
   "metadata": {},
   "outputs": [],
   "source": [
    "def HelloWorldXY(x, y):\n",
    "  if (x < 6):\n",
    "    print(\"Hello World, x was < 6\")\n",
    "  elif (x < 10):\n",
    "    print(\"Hello World, x was >= 6 but < 10\")\n",
    "  elif (x < 20):\n",
    "    print(\"Hello World, x was >=10 but < 20\")\n",
    "  else:\n",
    "    print(\"Hello World, x was >= 20\")\n",
    "  return x + y"
   ]
  },
  {
   "cell_type": "code",
   "execution_count": 7,
   "metadata": {},
   "outputs": [
    {
     "name": "stdout",
     "output_type": "stream",
     "text": [
      "Hello World, x was < 6\n",
      "Result from HellowWorld 0 i equals 0\n",
      "Hello World, x was < 6\n",
      "Result from HellowWorld 2 i equals 1\n",
      "Hello World, x was < 6\n",
      "Result from HellowWorld 4 i equals 2\n",
      "Hello World, x was < 6\n",
      "Result from HellowWorld 6 i equals 3\n",
      "Hello World, x was < 6\n",
      "Result from HellowWorld 8 i equals 4\n",
      "Hello World, x was < 6\n",
      "Result from HellowWorld 10 i equals 5\n"
     ]
    }
   ],
   "source": [
    "for i in range(0,6,1):\n",
    "    r=HelloWorldXY(i,i)\n",
    "    print(\"Result from HellowWorld {}\".format(r),\"i equals {}\".format(i))"
   ]
  },
  {
   "cell_type": "code",
   "execution_count": null,
   "metadata": {},
   "outputs": [],
   "source": []
  }
 ],
 "metadata": {
  "kernelspec": {
   "display_name": "Python 3",
   "language": "python",
   "name": "python3"
  },
  "language_info": {
   "codemirror_mode": {
    "name": "ipython",
    "version": 3
   },
   "file_extension": ".py",
   "mimetype": "text/x-python",
   "name": "python",
   "nbconvert_exporter": "python",
   "pygments_lexer": "ipython3",
   "version": "3.8.3"
  }
 },
 "nbformat": 4,
 "nbformat_minor": 4
}
