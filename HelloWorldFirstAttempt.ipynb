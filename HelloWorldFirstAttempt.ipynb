{
 "cells": [
  {
   "cell_type": "code",
   "execution_count": 5,
   "metadata": {},
   "outputs": [],
   "source": [
    "def HelloWorldXY(x, y):\n",
    "  if (x < 6):\n",
    "    print(\"Hello World, x was < 6\")\n",
    "  elif (x < 10):\n",
    "    print(\"Hello World, x was >= 6 but < 10\")\n",
    "  elif (x < 20):\n",
    "    print(\"Hello World, x was >=10 but < 20\")\n",
    "  else:\n",
    "    print(\"Hello World, x was >= 20\")\n",
    "  return x + y"
   ]
  },
  {
   "cell_type": "code",
   "execution_count": 6,
   "metadata": {},
   "outputs": [
    {
     "name": "stdout",
     "output_type": "stream",
     "text": [
      "Hello World, x was < 6\n",
      "Result from HellowWorld 0 i equals 0\n",
      "Hello World, x was < 6\n",
      "Result from HellowWorld 2 i equals 1\n",
      "Hello World, x was < 6\n",
      "Result from HellowWorld 4 i equals 2\n",
      "Hello World, x was < 6\n",
      "Result from HellowWorld 6 i equals 3\n",
      "Hello World, x was < 6\n",
      "Result from HellowWorld 8 i equals 4\n",
      "Hello World, x was < 6\n",
      "Result from HellowWorld 10 i equals 5\n",
      "Hello World, x was >= 6 but < 10\n",
      "Result from HellowWorld 12 i equals 6\n",
      "Hello World, x was >= 6 but < 10\n",
      "Result from HellowWorld 14 i equals 7\n",
      "Hello World, x was >= 6 but < 10\n",
      "Result from HellowWorld 16 i equals 8\n",
      "Hello World, x was >= 6 but < 10\n",
      "Result from HellowWorld 18 i equals 9\n",
      "Hello World, x was >=10 but < 20\n",
      "Result from HellowWorld 20 i equals 10\n",
      "Hello World, x was >=10 but < 20\n",
      "Result from HellowWorld 22 i equals 11\n",
      "Hello World, x was >=10 but < 20\n",
      "Result from HellowWorld 24 i equals 12\n",
      "Hello World, x was >=10 but < 20\n",
      "Result from HellowWorld 26 i equals 13\n",
      "Hello World, x was >=10 but < 20\n",
      "Result from HellowWorld 28 i equals 14\n",
      "Hello World, x was >=10 but < 20\n",
      "Result from HellowWorld 30 i equals 15\n",
      "Hello World, x was >=10 but < 20\n",
      "Result from HellowWorld 32 i equals 16\n",
      "Hello World, x was >=10 but < 20\n",
      "Result from HellowWorld 34 i equals 17\n",
      "Hello World, x was >=10 but < 20\n",
      "Result from HellowWorld 36 i equals 18\n",
      "Hello World, x was >=10 but < 20\n",
      "Result from HellowWorld 38 i equals 19\n",
      "Hello World, x was >= 20\n",
      "Result from HellowWorld 40 i equals 20\n"
     ]
    }
   ],
   "source": [
    "for i in range(0,21,1):\n",
    "    r=HelloWorldXY(i,i)\n",
    "    print(\"Result from HellowWorld {}\".format(r),\"i equals {}\".format(i))"
   ]
  },
  {
   "cell_type": "code",
   "execution_count": null,
   "metadata": {},
   "outputs": [],
   "source": []
  }
 ],
 "metadata": {
  "kernelspec": {
   "display_name": "Python 3",
   "language": "python",
   "name": "python3"
  },
  "language_info": {
   "codemirror_mode": {
    "name": "ipython",
    "version": 3
   },
   "file_extension": ".py",
   "mimetype": "text/x-python",
   "name": "python",
   "nbconvert_exporter": "python",
   "pygments_lexer": "ipython3",
   "version": "3.8.3"
  }
 },
 "nbformat": 4,
 "nbformat_minor": 4
}
