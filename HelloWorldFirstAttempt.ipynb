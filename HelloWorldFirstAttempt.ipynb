{
  "nbformat": 4,
  "nbformat_minor": 0,
  "metadata": {
    "kernelspec": {
      "display_name": "Python 3",
      "language": "python",
      "name": "python3"
    },
    "language_info": {
      "codemirror_mode": {
        "name": "ipython",
        "version": 3
      },
      "file_extension": ".py",
      "mimetype": "text/x-python",
      "name": "python",
      "nbconvert_exporter": "python",
      "pygments_lexer": "ipython3",
      "version": "3.8.3"
    },
    "colab": {
      "name": "HelloWorldFirstAttempt.ipynb",
      "provenance": []
    }
  },
  "cells": [
    {
      "cell_type": "code",
      "metadata": {
        "id": "n9_WGIF_WtbQ"
      },
      "source": [
        "def HelloWorldXY(x, y):\n",
        "  if (x < 6):\n",
        "    print(\"Hello World, x was < 6\")\n",
        "  elif (x < 10):\n",
        "    print(\"Hello World, x was >= 6 but < 10\")\n",
        "  elif (x < 20):\n",
        "    print(\"Hello World, x was >=10 but < 20\")\n",
        "  else:\n",
        "    print(\"Hello World, x was >= 20\")\n",
        "  return x + y"
      ],
      "execution_count": 6,
      "outputs": []
    },
    {
      "cell_type": "code",
      "metadata": {
        "id": "01W9TC5lWtbY"
      },
      "source": [
        "for i in range(0,6,1):\n",
        "    r=HelloWorldXY(i,i)\n",
        "    print(\"Result from HellowWorld {}\".format(r),\"i equals {}\".format(i))"
      ],
      "execution_count": null,
      "outputs": []
    },
    {
      "cell_type": "code",
      "metadata": {
        "id": "JO3_tZm8Wtbd"
      },
      "source": [
        "for i in range(10,21,1):\n",
        "  r=HelloWorldXY(i,i)\n",
        "  print(\"Result from HellowWorld {}\".format(r),\"i equals {}\".format(i))"
      ],
      "execution_count": null,
      "outputs": []
    },
    {
      "cell_type": "code",
      "metadata": {
        "id": "FrR47DK5W82f"
      },
      "source": [
        ""
      ],
      "execution_count": null,
      "outputs": []
    }
  ]
}